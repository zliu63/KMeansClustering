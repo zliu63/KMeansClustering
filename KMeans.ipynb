{
 "cells": [
  {
   "cell_type": "code",
   "execution_count": 1,
   "metadata": {
    "collapsed": true
   },
   "outputs": [],
   "source": [
    "from copy import deepcopy\n",
    "import numpy as np\n",
    "import pandas as pd\n",
    "import sys"
   ]
  },
  {
   "cell_type": "code",
   "execution_count": 50,
   "metadata": {},
   "outputs": [],
   "source": [
    "#import dataset\n",
    "myMap = {\"Iris-setosa\":0,\"Iris-versicolor\":1,\"Iris-virginica\":2}\n",
    "filename = \"/Users/ziyangliu/Documents/CS446/KMeansClustering/data/iris.data\"\n",
    "lines = [line.rstrip('\\n').split(\",\") for line in open(filename,\"r\")] \n",
    "lines.pop(0)\n",
    "data = np.array(lines)\n",
    "X = data[:,0:4].astype(np.float)\n",
    "Y = data[:,4]\n",
    "N = Y.shape[0]\n",
    "for i in range(N):\n",
    "    Y[i] = myMap[Y[i]]\n",
    "Y = Y.astype(np.float)"
   ]
  },
  {
   "cell_type": "code",
   "execution_count": 64,
   "metadata": {},
   "outputs": [
    {
     "name": "stdout",
     "output_type": "stream",
     "text": [
      "Initial Centers\n",
      "[[ 2.  0.  3.  4.]\n",
      " [ 1.  2.  1.  3.]\n",
      " [ 0.  2.  1.  0.]]\n"
     ]
    }
   ],
   "source": [
    "# Make 3  clusters\n",
    "k = 3\n",
    "# Initial Centroids\n",
    "C = [[2.,  0.,  3.,  4.], [1.,  2.,  1.,  3.], [0., 2.,  1.,  0.]]\n",
    "C = np.array(C)\n",
    "print(\"Initial Centers\")\n",
    "print(C)"
   ]
  },
  {
   "cell_type": "code",
   "execution_count": 179,
   "metadata": {},
   "outputs": [],
   "source": [
    "def choose(x,C_curr):\n",
    "    dist = np.square(C_curr-x)\n",
    "    dist = np.sum(dist,axis = 1)\n",
    "    return np.argmin(dist)\n",
    "\n",
    "def k_means(C):\n",
    "    '''\n",
    "    Repeat until convergence:\n",
    "        2.1 (Recenter.) Set μj := mean(Cj) for j ∈ (1,...,k).\n",
    "        2.2 (Reassign). Update Cj := {xi : μ(xi) = μj} for j ∈ (1,...,k)\n",
    "        (break ties arbitrarily).\n",
    "    '''\n",
    "    pred = np.zeros(N)\n",
    "    K = C.shape[0]\n",
    "    D = C.shape[1]\n",
    "    C_next = np.zeros((K,D))\n",
    "    C_curr = C\n",
    "    for i in range(N):\n",
    "        pred[i] = choose(X[i],C_curr)\n",
    "    for k in range(K):\n",
    "        C_next[k] = np.mean(X[pred==k],axis = 0)\n",
    "    while not np.array_equal(C_next,C_curr):\n",
    "        C_curr = deepcopy(C_next)\n",
    "        for i in range(N):\n",
    "            pred[i] = choose(X[i],C_curr)\n",
    "        for k in range(K):\n",
    "            C_next[k] = np.mean(X[pred==k],axis = 0)            \n",
    "    return C_next\n",
    "        \n",
    "    \n",
    "        "
   ]
  },
  {
   "cell_type": "code",
   "execution_count": 180,
   "metadata": {},
   "outputs": [
    {
     "name": "stdout",
     "output_type": "stream",
     "text": [
      "ok\n",
      "ok\n",
      "ok\n",
      "ok\n",
      "ok\n"
     ]
    },
    {
     "data": {
      "text/plain": [
       "array([[ 6.30103093,  2.88659794,  4.95876289,  1.69587629],\n",
       "       [ 5.21612903,  3.53870968,  1.68064516,  0.35806452],\n",
       "       [ 4.70909091,  3.10909091,  1.39545455,  0.19090909]])"
      ]
     },
     "execution_count": 180,
     "metadata": {},
     "output_type": "execute_result"
    }
   ],
   "source": [
    "k_means(C)"
   ]
  },
  {
   "cell_type": "code",
   "execution_count": 168,
   "metadata": {},
   "outputs": [
    {
     "name": "stdout",
     "output_type": "stream",
     "text": [
      "[ 5.006  3.418  1.464  0.244]\n",
      "[ 5.936  2.77   4.26   1.326]\n",
      "[ 6.588  2.974  5.552  2.026]\n"
     ]
    }
   ],
   "source": [
    "c1 = np.sum(X[0:50,:],axis = 0)\n",
    "c2 = np.sum(X[50:100,:],axis = 0)\n",
    "c3 = np.sum(X[100:150,:],axis = 0)\n",
    "print(c1/50)\n",
    "print(c2/50)\n",
    "print(c3/50)"
   ]
  },
  {
   "cell_type": "code",
   "execution_count": 125,
   "metadata": {
    "collapsed": true
   },
   "outputs": [],
   "source": [
    "from sklearn.cluster import KMeans"
   ]
  },
  {
   "cell_type": "code",
   "execution_count": 166,
   "metadata": {},
   "outputs": [
    {
     "name": "stdout",
     "output_type": "stream",
     "text": [
      "[[ 5.9016129   2.7483871   4.39354839  1.43387097]\n",
      " [ 5.006       3.418       1.464       0.244     ]\n",
      " [ 6.85        3.07368421  5.74210526  2.07105263]]\n",
      "[1 1 1 1 1 1 1 1 1 1 1 1 1 1 1 1 1 1 1 1 1 1 1 1 1 1 1 1 1 1 1 1 1 1 1 1 1\n",
      " 1 1 1 1 1 1 1 1 1 1 1 1 1 0 0 2 0 0 0 0 0 0 0 0 0 0 0 0 0 0 0 0 0 0 0 0 0\n",
      " 0 0 0 2 0 0 0 0 0 0 0 0 0 0 0 0 0 0 0 0 0 0 0 0 0 0 2 0 2 2 2 2 0 2 2 2 2\n",
      " 2 2 0 0 2 2 2 2 0 2 0 2 0 2 2 0 0 2 2 2 2 2 0 2 2 2 2 0 2 2 2 0 2 2 2 0 2\n",
      " 2 0]\n"
     ]
    }
   ],
   "source": [
    "kmeans = KMeans(n_clusters=3, random_state=0).fit(X)\n",
    "print(kmeans.cluster_centers_)\n",
    "print(kmeans.predict(X))\n"
   ]
  },
  {
   "cell_type": "code",
   "execution_count": null,
   "metadata": {
    "collapsed": true
   },
   "outputs": [],
   "source": []
  }
 ],
 "metadata": {
  "kernelspec": {
   "display_name": "Python 3",
   "language": "python",
   "name": "python3"
  },
  "language_info": {
   "codemirror_mode": {
    "name": "ipython",
    "version": 3
   },
   "file_extension": ".py",
   "mimetype": "text/x-python",
   "name": "python",
   "nbconvert_exporter": "python",
   "pygments_lexer": "ipython3",
   "version": "3.6.0"
  }
 },
 "nbformat": 4,
 "nbformat_minor": 2
}
